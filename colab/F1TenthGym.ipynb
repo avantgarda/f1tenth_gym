{
  "nbformat": 4,
  "nbformat_minor": 0,
  "metadata": {
    "colab": {
      "name": "F1TenthGym.ipynb",
      "provenance": [],
      "collapsed_sections": [
        "zOfIwpvmkqvU"
      ],
      "authorship_tag": "ABX9TyPmrj6HRpKchJ1Vf6oN407X",
      "include_colab_link": true
    },
    "kernelspec": {
      "name": "python3",
      "display_name": "Python 3"
    }
  },
  "cells": [
    {
      "cell_type": "markdown",
      "metadata": {
        "id": "view-in-github",
        "colab_type": "text"
      },
      "source": [
        "<a href=\"https://colab.research.google.com/github/avantgarda/f1tenth_gym/blob/colab/colab/F1TenthGym.ipynb\" target=\"_parent\"><img src=\"https://colab.research.google.com/assets/colab-badge.svg\" alt=\"Open In Colab\"/></a>"
      ]
    },
    {
      "cell_type": "markdown",
      "metadata": {
        "id": "8xdLanPGlgLj"
      },
      "source": [
        "### Installing F1Tenth Gym ([forked version](https://github.com/avantgarda/f1tenth_gym/tree/colab) with Colab rendering)\n",
        "See the F1Tenth Gym [docs](https://f1tenth-gym.readthedocs.io/en/latest/index.html) for more info\n",
        "\n",
        "**Note:** This first cell should only be run once and will take less than a minute to setup"
      ]
    },
    {
      "cell_type": "code",
      "metadata": {
        "id": "gOQEOoTiD5IK"
      },
      "source": [
        "%%capture\n",
        "%cd /content\n",
        "!git clone https://github.com/avantgarda/f1tenth_gym.git # cloning from my fork of the F1Tenth repo\n",
        "%cd /content/f1tenth_gym\n",
        "!git checkout colab\n",
        "%cd /content/f1tenth_gym/gym\n",
        "!python setup.py install"
      ],
      "execution_count": null,
      "outputs": []
    },
    {
      "cell_type": "markdown",
      "metadata": {
        "id": "PUNUJeHMlbKx"
      },
      "source": [
        "### Running F1Tenth simulator\n",
        "To just get the observations and no visuals, comment out ```env.render(mode=\"human\")``` in the simulation loop below"
      ]
    },
    {
      "cell_type": "code",
      "metadata": {
        "id": "5TTfInx2IChz"
      },
      "source": [
        "import gym\n",
        "import numpy as np"
      ],
      "execution_count": null,
      "outputs": []
    },
    {
      "cell_type": "code",
      "metadata": {
        "id": "5MLyOkiwHwr_"
      },
      "source": [
        "# create simulator with choosen setup (there are other maps in this repo too, not sure if they work)\n",
        "env = gym.make('f110_gym:f110-v0', map='/content/f1tenth_gym/examples/example_map', map_ext='.png', num_agents=2) # you can change the number of cars"
      ],
      "execution_count": null,
      "outputs": []
    },
    {
      "cell_type": "code",
      "metadata": {
        "id": "aiUE_vDq2KGE"
      },
      "source": [
        "# attach visual display to this cell - this command should always be in its own cell\n",
        "env.render(colab_start=True)"
      ],
      "execution_count": null,
      "outputs": []
    },
    {
      "cell_type": "code",
      "metadata": {
        "id": "yuqqF3cyXj9X"
      },
      "source": [
        "# puts cars in chosen starting positions [x, y, angle]\n",
        "obs, _, _, _ = env.reset(np.array([[-1.0, 0.0, np.radians(90)],   # first car\n",
        "                                   [-0.0, 0.0, np.radians(90)]])) # second car\n",
        "\n",
        "# this initial reset call will return the first set of observations (scans)\n",
        "# check the docs to find out what else is in the observations (dict)\n",
        "# obs['scans'][0] lidar for first car\n",
        "# obs['scans'][1] lidar for second car\n",
        "\n",
        "done = False\n",
        "# drive through environment until crash or finish\n",
        "while not done:\n",
        "  # choose actions [steer, speed]\n",
        "  # this is where your fancy algorithm should make the choice\n",
        "  obs, _, done, _ = env.step(np.array([[0.0, 1.0],   # first car\n",
        "                                       [0.0, 1.0]])) # second car\n",
        "\n",
        "  # render frame (choose mode)\n",
        "  env.render(mode=\"human\") # human: realtime, human_fast: render as fast as possible"
      ],
      "execution_count": null,
      "outputs": []
    },
    {
      "cell_type": "markdown",
      "metadata": {
        "id": "zOfIwpvmkqvU"
      },
      "source": [
        "### Example agent - **waypoint follower**\n",
        "This example agent does two laps without crashing. You can just run this whole cell and the map will pop up down below **&#8595;**"
      ]
    },
    {
      "cell_type": "code",
      "metadata": {
        "id": "W48INCpup-OO"
      },
      "source": [
        "import time\n",
        "import yaml\n",
        "import gym\n",
        "import numpy as np\n",
        "from argparse import Namespace\n",
        "\n",
        "from numba import njit\n",
        "\n",
        "\"\"\"\n",
        "Planner Helpers\n",
        "\"\"\"\n",
        "@njit(fastmath=False, cache=True)\n",
        "def nearest_point_on_trajectory(point, trajectory):\n",
        "    '''\n",
        "    Return the nearest point along the given piecewise linear trajectory.\n",
        "\n",
        "    Same as nearest_point_on_line_segment, but vectorized. This method is quite fast, time constraints should\n",
        "    not be an issue so long as trajectories are not insanely long.\n",
        "\n",
        "        Order of magnitude: trajectory length: 1000 --> 0.0002 second computation (5000fps)\n",
        "\n",
        "    point: size 2 numpy array\n",
        "    trajectory: Nx2 matrix of (x,y) trajectory waypoints\n",
        "        - these must be unique. If they are not unique, a divide by 0 error will destroy the world\n",
        "    '''\n",
        "    diffs = trajectory[1:,:] - trajectory[:-1,:]\n",
        "    l2s   = diffs[:,0]**2 + diffs[:,1]**2\n",
        "    # this is equivalent to the elementwise dot product\n",
        "    # dots = np.sum((point - trajectory[:-1,:]) * diffs[:,:], axis=1)\n",
        "    dots = np.empty((trajectory.shape[0]-1, ))\n",
        "    for i in range(dots.shape[0]):\n",
        "        dots[i] = np.dot((point - trajectory[i, :]), diffs[i, :])\n",
        "    t = dots / l2s\n",
        "    t[t<0.0] = 0.0\n",
        "    t[t>1.0] = 1.0\n",
        "    # t = np.clip(dots / l2s, 0.0, 1.0)\n",
        "    projections = trajectory[:-1,:] + (t*diffs.T).T\n",
        "    # dists = np.linalg.norm(point - projections, axis=1)\n",
        "    dists = np.empty((projections.shape[0],))\n",
        "    for i in range(dists.shape[0]):\n",
        "        temp = point - projections[i]\n",
        "        dists[i] = np.sqrt(np.sum(temp*temp))\n",
        "    min_dist_segment = np.argmin(dists)\n",
        "    return projections[min_dist_segment], dists[min_dist_segment], t[min_dist_segment], min_dist_segment\n",
        "\n",
        "@njit(fastmath=False, cache=True)\n",
        "def first_point_on_trajectory_intersecting_circle(point, radius, trajectory, t=0.0, wrap=False):\n",
        "    ''' starts at beginning of trajectory, and find the first point one radius away from the given point along the trajectory.\n",
        "\n",
        "    Assumes that the first segment passes within a single radius of the point\n",
        "\n",
        "    http://codereview.stackexchange.com/questions/86421/line-segment-to-circle-collision-algorithm\n",
        "    '''\n",
        "    start_i = int(t)\n",
        "    start_t = t % 1.0\n",
        "    first_t = None\n",
        "    first_i = None\n",
        "    first_p = None\n",
        "    trajectory = np.ascontiguousarray(trajectory)\n",
        "    for i in range(start_i, trajectory.shape[0]-1):\n",
        "        start = trajectory[i,:]\n",
        "        end = trajectory[i+1,:]+1e-6\n",
        "        V = np.ascontiguousarray(end - start)\n",
        "\n",
        "        a = np.dot(V,V)\n",
        "        b = 2.0*np.dot(V, start - point)\n",
        "        c = np.dot(start, start) + np.dot(point,point) - 2.0*np.dot(start, point) - radius*radius\n",
        "        discriminant = b*b-4*a*c\n",
        "\n",
        "        if discriminant < 0:\n",
        "            continue\n",
        "        #   print \"NO INTERSECTION\"\n",
        "        # else:\n",
        "        # if discriminant >= 0.0:\n",
        "        discriminant = np.sqrt(discriminant)\n",
        "        t1 = (-b - discriminant) / (2.0*a)\n",
        "        t2 = (-b + discriminant) / (2.0*a)\n",
        "        if i == start_i:\n",
        "            if t1 >= 0.0 and t1 <= 1.0 and t1 >= start_t:\n",
        "                first_t = t1\n",
        "                first_i = i\n",
        "                first_p = start + t1 * V\n",
        "                break\n",
        "            if t2 >= 0.0 and t2 <= 1.0 and t2 >= start_t:\n",
        "                first_t = t2\n",
        "                first_i = i\n",
        "                first_p = start + t2 * V\n",
        "                break\n",
        "        elif t1 >= 0.0 and t1 <= 1.0:\n",
        "            first_t = t1\n",
        "            first_i = i\n",
        "            first_p = start + t1 * V\n",
        "            break\n",
        "        elif t2 >= 0.0 and t2 <= 1.0:\n",
        "            first_t = t2\n",
        "            first_i = i\n",
        "            first_p = start + t2 * V\n",
        "            break\n",
        "    # wrap around to the beginning of the trajectory if no intersection is found1\n",
        "    if wrap and first_p is None:\n",
        "        for i in range(-1, start_i):\n",
        "            start = trajectory[i % trajectory.shape[0],:]\n",
        "            end = trajectory[(i+1) % trajectory.shape[0],:]+1e-6\n",
        "            V = end - start\n",
        "\n",
        "            a = np.dot(V,V)\n",
        "            b = 2.0*np.dot(V, start - point)\n",
        "            c = np.dot(start, start) + np.dot(point,point) - 2.0*np.dot(start, point) - radius*radius\n",
        "            discriminant = b*b-4*a*c\n",
        "\n",
        "            if discriminant < 0:\n",
        "                continue\n",
        "            discriminant = np.sqrt(discriminant)\n",
        "            t1 = (-b - discriminant) / (2.0*a)\n",
        "            t2 = (-b + discriminant) / (2.0*a)\n",
        "            if t1 >= 0.0 and t1 <= 1.0:\n",
        "                first_t = t1\n",
        "                first_i = i\n",
        "                first_p = start + t1 * V\n",
        "                break\n",
        "            elif t2 >= 0.0 and t2 <= 1.0:\n",
        "                first_t = t2\n",
        "                first_i = i\n",
        "                first_p = start + t2 * V\n",
        "                break\n",
        "\n",
        "    return first_p, first_i, first_t\n",
        "\n",
        "@njit(fastmath=False, cache=True)\n",
        "def get_actuation(pose_theta, lookahead_point, position, lookahead_distance, wheelbase):\n",
        "    waypoint_y = np.dot(np.array([np.sin(-pose_theta), np.cos(-pose_theta)]), lookahead_point[0:2]-position)\n",
        "    speed = lookahead_point[2]\n",
        "    if np.abs(waypoint_y) < 1e-6:\n",
        "        return speed, 0.\n",
        "    radius = 1/(2.0*waypoint_y/lookahead_distance**2)\n",
        "    steering_angle = np.arctan(wheelbase/radius)\n",
        "    return speed, steering_angle\n",
        "\n",
        "\n",
        "\n",
        "class PurePursuitPlanner:\n",
        "    \"\"\"\n",
        "    Example Planner\n",
        "    \"\"\"\n",
        "    def __init__(self, conf, wb):\n",
        "        self.wheelbase = wb\n",
        "        self.conf = conf\n",
        "        self.load_waypoints(conf)\n",
        "        self.max_reacquire = 20.\n",
        "\n",
        "    def load_waypoints(self, conf):\n",
        "        # load waypoints\n",
        "        self.waypoints = np.loadtxt('/content/f1tenth_gym/examples/example_waypoints.csv', delimiter=conf.wpt_delim, skiprows=conf.wpt_rowskip)\n",
        "\n",
        "    def _get_current_waypoint(self, waypoints, lookahead_distance, position, theta):\n",
        "        wpts = np.vstack((self.waypoints[:, self.conf.wpt_xind], self.waypoints[:, self.conf.wpt_yind])).T\n",
        "        nearest_point, nearest_dist, t, i = nearest_point_on_trajectory(position, wpts)\n",
        "        if nearest_dist < lookahead_distance:\n",
        "            lookahead_point, i2, t2 = first_point_on_trajectory_intersecting_circle(position, lookahead_distance, wpts, i+t, wrap=True)\n",
        "            if i2 == None:\n",
        "                return None\n",
        "            current_waypoint = np.empty((3, ))\n",
        "            # x, y\n",
        "            current_waypoint[0:2] = wpts[i2, :]\n",
        "            # speed\n",
        "            current_waypoint[2] = waypoints[i, self.conf.wpt_vind]\n",
        "            return current_waypoint\n",
        "        elif nearest_dist < self.max_reacquire:\n",
        "            return np.append(wpts[i, :], waypoints[i, self.conf.wpt_vind])\n",
        "        else:\n",
        "            return None\n",
        "\n",
        "    def plan(self, pose_x, pose_y, pose_theta, lookahead_distance, vgain):\n",
        "        position = np.array([pose_x, pose_y])\n",
        "        lookahead_point = self._get_current_waypoint(self.waypoints, lookahead_distance, position, pose_theta)\n",
        "\n",
        "        if lookahead_point is None:\n",
        "            return 4.0, 0.0\n",
        "\n",
        "        speed, steering_angle = get_actuation(pose_theta, lookahead_point, position, lookahead_distance, self.wheelbase)\n",
        "        speed = vgain * speed\n",
        "\n",
        "        return speed, steering_angle\n",
        "\n",
        "\n",
        "if __name__ == '__main__':\n",
        "\n",
        "    work = {'mass': 3.463388126201571, 'lf': 0.15597534362552312, 'tlad': 0.82461887897713965, 'vgain': 0.90338203837889}\n",
        "    with open('/content/f1tenth_gym/examples/config_example_map.yaml') as file:\n",
        "        conf_dict = yaml.load(file)\n",
        "    conf = Namespace(**conf_dict)\n",
        "\n",
        "    env = gym.make('f110_gym:f110-v0', map='/content/f1tenth_gym/examples/example_map', map_ext=conf.map_ext, num_agents=1)\n",
        "    obs, step_reward, done, info = env.reset(np.array([[conf.sx, conf.sy, conf.stheta]]))\n",
        "    env.render()\n",
        "    planner = PurePursuitPlanner(conf, 0.17145+0.15875)\n",
        "\n",
        "    laptime = 0.0\n",
        "    start = time.time()\n",
        "\n",
        "    while not done:\n",
        "        speed, steer = planner.plan(obs['poses_x'][0], obs['poses_y'][0], obs['poses_theta'][0], work['tlad'], work['vgain'])\n",
        "        obs, step_reward, done, info = env.step(np.array([[steer, speed]]))\n",
        "        laptime += step_reward\n",
        "        env.render(mode='human')"
      ],
      "execution_count": null,
      "outputs": []
    }
  ]
}